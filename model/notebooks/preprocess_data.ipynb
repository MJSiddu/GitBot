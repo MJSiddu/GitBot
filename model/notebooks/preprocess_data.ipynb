{
 "cells": [
  {
   "cell_type": "code",
   "execution_count": 3,
   "metadata": {},
   "outputs": [
    {
     "name": "stderr",
     "output_type": "stream",
     "text": [
      "C:\\tools\\Anaconda3\\envs\\python3\\lib\\site-packages\\sklearn\\externals\\joblib\\__init__.py:15: DeprecationWarning: sklearn.externals.joblib is deprecated in 0.21 and will be removed in 0.23. Please import this functionality directly from joblib, which can be installed with: pip install joblib. If this warning is raised when loading pickled models, you may need to re-serialize those models with scikit-learn 0.21+.\n",
      "  warnings.warn(msg, category=DeprecationWarning)\n",
      "Using TensorFlow backend.\n"
     ]
    }
   ],
   "source": [
    "import os\n",
    "import dill as dpickle\n",
    "import numpy as np\n",
    "import pandas as pd\n",
    "from sklearn.model_selection import train_test_split\n",
    "from ktext.preprocess import processor"
   ]
  },
  {
   "cell_type": "code",
   "execution_count": 5,
   "metadata": {},
   "outputs": [
    {
     "name": "stdout",
     "output_type": "stream",
     "text": [
      "C:\\Users\\hagrawa2\\Desktop\\issues_labeller\n"
     ]
    }
   ],
   "source": [
    "cwd = os.getcwd()\n",
    "print(cwd)"
   ]
  },
  {
   "cell_type": "code",
   "execution_count": 7,
   "metadata": {},
   "outputs": [],
   "source": [
    "df = pd.concat([pd.read_csv(\"{}\\issues_data_00000000000{}.csv\".format(cwd, i)) for i in range(0, 10)])"
   ]
  },
  {
   "cell_type": "code",
   "execution_count": 8,
   "metadata": {},
   "outputs": [
    {
     "data": {
      "text/html": [
       "<div>\n",
       "<style scoped>\n",
       "    .dataframe tbody tr th:only-of-type {\n",
       "        vertical-align: middle;\n",
       "    }\n",
       "\n",
       "    .dataframe tbody tr th {\n",
       "        vertical-align: top;\n",
       "    }\n",
       "\n",
       "    .dataframe thead th {\n",
       "        text-align: right;\n",
       "    }\n",
       "</style>\n",
       "<table border=\"1\" class=\"dataframe\">\n",
       "  <thead>\n",
       "    <tr style=\"text-align: right;\">\n",
       "      <th></th>\n",
       "      <th>url</th>\n",
       "      <th>repo</th>\n",
       "      <th>title</th>\n",
       "      <th>body</th>\n",
       "      <th>num_labels</th>\n",
       "      <th>labels</th>\n",
       "      <th>c_bug</th>\n",
       "      <th>c_feature</th>\n",
       "      <th>c_question</th>\n",
       "      <th>c_documentation</th>\n",
       "      <th>class_int</th>\n",
       "    </tr>\n",
       "  </thead>\n",
       "  <tbody>\n",
       "    <tr>\n",
       "      <th>0</th>\n",
       "      <td>\"https://github.com/dontsovcmc/waterius/issues...</td>\n",
       "      <td>dontsovcmc/waterius</td>\n",
       "      <td>передавать кол-во перезагрузок</td>\n",
       "      <td>1. так все делают\\r 2. будет полезно для изуче...</td>\n",
       "      <td>1</td>\n",
       "      <td>[\"enhancement\", \"enhancement\"]</td>\n",
       "      <td>False</td>\n",
       "      <td>True</td>\n",
       "      <td>False</td>\n",
       "      <td>False</td>\n",
       "      <td>1</td>\n",
       "    </tr>\n",
       "    <tr>\n",
       "      <th>1</th>\n",
       "      <td>\"https://github.com/IlyaPetrovM/razmetka/issue...</td>\n",
       "      <td>IlyaPetrovM/razmetka</td>\n",
       "      <td>синхронное перемещение интервалов текста</td>\n",
       "      <td>нужно переделать систему сигналов.  ! проблема...</td>\n",
       "      <td>2</td>\n",
       "      <td>[\"enhancement\", \"help wanted\"]</td>\n",
       "      <td>False</td>\n",
       "      <td>True</td>\n",
       "      <td>False</td>\n",
       "      <td>False</td>\n",
       "      <td>1</td>\n",
       "    </tr>\n",
       "    <tr>\n",
       "      <th>2</th>\n",
       "      <td>\"https://github.com/Microsoft/vscode-cpptools/...</td>\n",
       "      <td>Microsoft/vscode-cpptools</td>\n",
       "      <td>“format codes” is unusable</td>\n",
       "      <td>i can't use \\ format codes\\  function both in ...</td>\n",
       "      <td>2</td>\n",
       "      <td>[\"bug\", \"Language Service\"]</td>\n",
       "      <td>True</td>\n",
       "      <td>False</td>\n",
       "      <td>False</td>\n",
       "      <td>False</td>\n",
       "      <td>0</td>\n",
       "    </tr>\n",
       "    <tr>\n",
       "      <th>3</th>\n",
       "      <td>\"https://github.com/vnpy/vnpy/issues/1029\"</td>\n",
       "      <td>vnpy/vnpy</td>\n",
       "      <td>一直报 no module named websocket 安装也安装不了</td>\n",
       "      <td>环境\\r \\r   操作系统: ubuntu 16.04 （阿里云）\\r   anacond...</td>\n",
       "      <td>1</td>\n",
       "      <td>[\"question\"]</td>\n",
       "      <td>False</td>\n",
       "      <td>False</td>\n",
       "      <td>True</td>\n",
       "      <td>False</td>\n",
       "      <td>2</td>\n",
       "    </tr>\n",
       "    <tr>\n",
       "      <th>4</th>\n",
       "      <td>\"https://github.com/superbiger/pinyin4js/issue...</td>\n",
       "      <td>superbiger/pinyin4js</td>\n",
       "      <td>下载下来 npm run build-browser 报不成功</td>\n",
       "      <td>npm run build-browser\\r \\r error in pinyin4js....</td>\n",
       "      <td>1</td>\n",
       "      <td>[\"question\"]</td>\n",
       "      <td>False</td>\n",
       "      <td>False</td>\n",
       "      <td>True</td>\n",
       "      <td>False</td>\n",
       "      <td>2</td>\n",
       "    </tr>\n",
       "  </tbody>\n",
       "</table>\n",
       "</div>"
      ],
      "text/plain": [
       "                                                 url  \\\n",
       "0  \"https://github.com/dontsovcmc/waterius/issues...   \n",
       "1  \"https://github.com/IlyaPetrovM/razmetka/issue...   \n",
       "2  \"https://github.com/Microsoft/vscode-cpptools/...   \n",
       "3         \"https://github.com/vnpy/vnpy/issues/1029\"   \n",
       "4  \"https://github.com/superbiger/pinyin4js/issue...   \n",
       "\n",
       "                        repo                                     title  \\\n",
       "0        dontsovcmc/waterius            передавать кол-во перезагрузок   \n",
       "1       IlyaPetrovM/razmetka  синхронное перемещение интервалов текста   \n",
       "2  Microsoft/vscode-cpptools                “format codes” is unusable   \n",
       "3                  vnpy/vnpy     一直报 no module named websocket 安装也安装不了   \n",
       "4       superbiger/pinyin4js           下载下来 npm run build-browser 报不成功   \n",
       "\n",
       "                                                body  num_labels  \\\n",
       "0  1. так все делают\\r 2. будет полезно для изуче...           1   \n",
       "1  нужно переделать систему сигналов.  ! проблема...           2   \n",
       "2  i can't use \\ format codes\\  function both in ...           2   \n",
       "3  环境\\r \\r   操作系统: ubuntu 16.04 （阿里云）\\r   anacond...           1   \n",
       "4  npm run build-browser\\r \\r error in pinyin4js....           1   \n",
       "\n",
       "                           labels  c_bug  c_feature  c_question  \\\n",
       "0  [\"enhancement\", \"enhancement\"]  False       True       False   \n",
       "1  [\"enhancement\", \"help wanted\"]  False       True       False   \n",
       "2     [\"bug\", \"Language Service\"]   True      False       False   \n",
       "3                    [\"question\"]  False      False        True   \n",
       "4                    [\"question\"]  False      False        True   \n",
       "\n",
       "   c_documentation  class_int  \n",
       "0            False          1  \n",
       "1            False          1  \n",
       "2            False          0  \n",
       "3            False          2  \n",
       "4            False          2  "
      ]
     },
     "execution_count": 8,
     "metadata": {},
     "output_type": "execute_result"
    }
   ],
   "source": [
    "df.head()"
   ]
  },
  {
   "cell_type": "code",
   "execution_count": 9,
   "metadata": {},
   "outputs": [
    {
     "data": {
      "text/plain": [
       "(2201347, 11)"
      ]
     },
     "execution_count": 9,
     "metadata": {},
     "output_type": "execute_result"
    }
   ],
   "source": [
    "df.shape"
   ]
  },
  {
   "cell_type": "code",
   "execution_count": 10,
   "metadata": {},
   "outputs": [],
   "source": [
    "traindf, testdf = train_test_split(df, test_size=.15)\n",
    "traindf.to_pickle('traindf.pkl')\n",
    "testdf.to_pickle('testdf.pkl')"
   ]
  },
  {
   "cell_type": "code",
   "execution_count": 12,
   "metadata": {},
   "outputs": [
    {
     "data": {
      "text/plain": [
       "class_int\n",
       "0    834610\n",
       "1    855858\n",
       "2    180676\n",
       "dtype: int64"
      ]
     },
     "execution_count": 12,
     "metadata": {},
     "output_type": "execute_result"
    }
   ],
   "source": [
    "traindf.groupby('class_int').size()"
   ]
  },
  {
   "cell_type": "code",
   "execution_count": 13,
   "metadata": {},
   "outputs": [
    {
     "data": {
      "text/html": [
       "<div>\n",
       "<style scoped>\n",
       "    .dataframe tbody tr th:only-of-type {\n",
       "        vertical-align: middle;\n",
       "    }\n",
       "\n",
       "    .dataframe tbody tr th {\n",
       "        vertical-align: top;\n",
       "    }\n",
       "\n",
       "    .dataframe thead th {\n",
       "        text-align: right;\n",
       "    }\n",
       "</style>\n",
       "<table border=\"1\" class=\"dataframe\">\n",
       "  <thead>\n",
       "    <tr style=\"text-align: right;\">\n",
       "      <th></th>\n",
       "      <th>pcnt</th>\n",
       "      <th>count</th>\n",
       "    </tr>\n",
       "    <tr>\n",
       "      <th>repo</th>\n",
       "      <th></th>\n",
       "      <th></th>\n",
       "    </tr>\n",
       "  </thead>\n",
       "  <tbody>\n",
       "    <tr>\n",
       "      <th>Microsoft/vscode</th>\n",
       "      <td>0.005305</td>\n",
       "      <td>11679</td>\n",
       "    </tr>\n",
       "    <tr>\n",
       "      <th>MicrosoftDocs/azure-docs</th>\n",
       "      <td>0.002831</td>\n",
       "      <td>6232</td>\n",
       "    </tr>\n",
       "    <tr>\n",
       "      <th>rancher/rancher</th>\n",
       "      <td>0.002393</td>\n",
       "      <td>5267</td>\n",
       "    </tr>\n",
       "    <tr>\n",
       "      <th>ansible/ansible</th>\n",
       "      <td>0.002313</td>\n",
       "      <td>5091</td>\n",
       "    </tr>\n",
       "    <tr>\n",
       "      <th>godotengine/godot</th>\n",
       "      <td>0.002176</td>\n",
       "      <td>4791</td>\n",
       "    </tr>\n",
       "    <tr>\n",
       "      <th>kubernetes/kubernetes</th>\n",
       "      <td>0.002172</td>\n",
       "      <td>4781</td>\n",
       "    </tr>\n",
       "    <tr>\n",
       "      <th>hashicorp/terraform</th>\n",
       "      <td>0.001485</td>\n",
       "      <td>3269</td>\n",
       "    </tr>\n",
       "    <tr>\n",
       "      <th>elastic/kibana</th>\n",
       "      <td>0.001446</td>\n",
       "      <td>3184</td>\n",
       "    </tr>\n",
       "    <tr>\n",
       "      <th>eclipse/che</th>\n",
       "      <td>0.001311</td>\n",
       "      <td>2885</td>\n",
       "    </tr>\n",
       "    <tr>\n",
       "      <th>dotnet/corefx</th>\n",
       "      <td>0.001293</td>\n",
       "      <td>2847</td>\n",
       "    </tr>\n",
       "    <tr>\n",
       "      <th>dart-lang/sdk</th>\n",
       "      <td>0.001237</td>\n",
       "      <td>2723</td>\n",
       "    </tr>\n",
       "    <tr>\n",
       "      <th>brave/browser-laptop</th>\n",
       "      <td>0.001215</td>\n",
       "      <td>2674</td>\n",
       "    </tr>\n",
       "    <tr>\n",
       "      <th>magento/magento2</th>\n",
       "      <td>0.000986</td>\n",
       "      <td>2170</td>\n",
       "    </tr>\n",
       "    <tr>\n",
       "      <th>Kademi/kademi-dev</th>\n",
       "      <td>0.000964</td>\n",
       "      <td>2121</td>\n",
       "    </tr>\n",
       "    <tr>\n",
       "      <th>Microsoft/AL</th>\n",
       "      <td>0.000933</td>\n",
       "      <td>2053</td>\n",
       "    </tr>\n",
       "    <tr>\n",
       "      <th>openshiftio/openshift.io</th>\n",
       "      <td>0.000900</td>\n",
       "      <td>1982</td>\n",
       "    </tr>\n",
       "    <tr>\n",
       "      <th>rust-lang/rust</th>\n",
       "      <td>0.000887</td>\n",
       "      <td>1953</td>\n",
       "    </tr>\n",
       "    <tr>\n",
       "      <th>metasfresh/metasfresh</th>\n",
       "      <td>0.000849</td>\n",
       "      <td>1868</td>\n",
       "    </tr>\n",
       "    <tr>\n",
       "      <th>status-im/status-react</th>\n",
       "      <td>0.000823</td>\n",
       "      <td>1811</td>\n",
       "    </tr>\n",
       "    <tr>\n",
       "      <th>zephyrproject-rtos/zephyr</th>\n",
       "      <td>0.000779</td>\n",
       "      <td>1715</td>\n",
       "    </tr>\n",
       "  </tbody>\n",
       "</table>\n",
       "</div>"
      ],
      "text/plain": [
       "                               pcnt  count\n",
       "repo                                      \n",
       "Microsoft/vscode           0.005305  11679\n",
       "MicrosoftDocs/azure-docs   0.002831   6232\n",
       "rancher/rancher            0.002393   5267\n",
       "ansible/ansible            0.002313   5091\n",
       "godotengine/godot          0.002176   4791\n",
       "kubernetes/kubernetes      0.002172   4781\n",
       "hashicorp/terraform        0.001485   3269\n",
       "elastic/kibana             0.001446   3184\n",
       "eclipse/che                0.001311   2885\n",
       "dotnet/corefx              0.001293   2847\n",
       "dart-lang/sdk              0.001237   2723\n",
       "brave/browser-laptop       0.001215   2674\n",
       "magento/magento2           0.000986   2170\n",
       "Kademi/kademi-dev          0.000964   2121\n",
       "Microsoft/AL               0.000933   2053\n",
       "openshiftio/openshift.io   0.000900   1982\n",
       "rust-lang/rust             0.000887   1953\n",
       "metasfresh/metasfresh      0.000849   1868\n",
       "status-im/status-react     0.000823   1811\n",
       "zephyrproject-rtos/zephyr  0.000779   1715"
      ]
     },
     "execution_count": 13,
     "metadata": {},
     "output_type": "execute_result"
    }
   ],
   "source": [
    "pareto_df = pd.DataFrame({'pcnt': df.groupby('repo').size() / len(df), 'count': df.groupby('repo').size()})\n",
    "pareto_df.sort_values('pcnt', ascending=False).head(20)"
   ]
  },
  {
   "cell_type": "code",
   "execution_count": 14,
   "metadata": {},
   "outputs": [
    {
     "name": "stderr",
     "output_type": "stream",
     "text": [
      "WARNING:root:....tokenizing data\n",
      "WARNING:root:Setting maximum document length to 110 based upon heuristic of 0.75 percentile.\n",
      " See full histogram by insepecting the `document_length_stats` attribute.\n",
      "WARNING:root:(1/2) done. 272 sec\n",
      "WARNING:root:....building corpus\n",
      "WARNING:root:(2/2) done. 96 sec\n",
      "WARNING:root:Finished parsing 1,871,144 documents.\n",
      "WARNING:root:...fit is finished, beginning transform\n",
      "WARNING:root:...padding data\n",
      "WARNING:root:done. 75 sec\n",
      "WARNING:root:....tokenizing data\n",
      "WARNING:root:Setting maximum document length to 10 based upon heuristic of 0.75 percentile.\n",
      " See full histogram by insepecting the `document_length_stats` attribute.\n",
      "WARNING:root:(1/2) done. 43 sec\n",
      "WARNING:root:....building corpus\n",
      "WARNING:root:(2/2) done. 11 sec\n",
      "WARNING:root:Finished parsing 1,871,144 documents.\n",
      "WARNING:root:...fit is finished, beginning transform\n",
      "WARNING:root:...padding data\n",
      "WARNING:root:done. 16 sec\n"
     ]
    },
    {
     "name": "stdout",
     "output_type": "stream",
     "text": [
      "Wall time: 8min 46s\n"
     ]
    }
   ],
   "source": [
    "%%time\n",
    "\n",
    "train_body_raw = traindf.body.tolist()\n",
    "train_title_raw = traindf.title.tolist()\n",
    "\n",
    "# Clean, tokenize, and apply padding / truncating such that each document length = 75th percentile for the dataset.\n",
    "#  also, retain only the top keep_n words in the vocabulary and set the remaining words\n",
    "#  to 1 which will become common index for rare words \n",
    "\n",
    "# process the issue body data\n",
    "body_pp = processor(heuristic_pct_padding=.75, keep_n=8000)\n",
    "train_body_vecs = body_pp.fit_transform(train_body_raw)\n",
    "\n",
    "# process the title data\n",
    "title_pp = processor(heuristic_pct_padding=.75, keep_n=4500)\n",
    "train_title_vecs = title_pp.fit_transform(train_title_raw)"
   ]
  },
  {
   "cell_type": "code",
   "execution_count": 15,
   "metadata": {},
   "outputs": [
    {
     "name": "stderr",
     "output_type": "stream",
     "text": [
      "WARNING:root:...tokenizing data\n",
      "WARNING:root:...indexing data\n",
      "WARNING:root:...padding data\n",
      "WARNING:root:...tokenizing data\n",
      "WARNING:root:...indexing data\n",
      "WARNING:root:...padding data\n"
     ]
    },
    {
     "name": "stdout",
     "output_type": "stream",
     "text": [
      "Wall time: 1min 34s\n"
     ]
    }
   ],
   "source": [
    "%%time\n",
    "\n",
    "test_body_raw = testdf.body.tolist()\n",
    "test_title_raw = testdf.title.tolist()\n",
    "\n",
    "test_body_vecs = body_pp.transform_parallel(test_body_raw)\n",
    "test_title_vecs = title_pp.transform_parallel(test_title_raw)"
   ]
  },
  {
   "cell_type": "code",
   "execution_count": 16,
   "metadata": {},
   "outputs": [],
   "source": [
    "train_labels = np.expand_dims(traindf.class_int.values, -1)\n",
    "test_labels = np.expand_dims(testdf.class_int.values, -1)"
   ]
  },
  {
   "cell_type": "code",
   "execution_count": 17,
   "metadata": {},
   "outputs": [],
   "source": [
    "# Save the preprocessor\n",
    "with open('body_pp.dpkl', 'wb') as f:\n",
    "    dpickle.dump(body_pp, f)\n",
    "\n",
    "with open('title_pp.dpkl', 'wb') as f:\n",
    "    dpickle.dump(title_pp, f)\n",
    "\n",
    "# Save the processed data\n",
    "np.save('train_title_vecs.npy', train_title_vecs)\n",
    "np.save('train_body_vecs.npy', train_body_vecs)\n",
    "np.save('test_body_vecs.npy', test_body_vecs)\n",
    "np.save('test_title_vecs.npy', test_title_vecs)\n",
    "np.save('train_labels.npy', train_labels)\n",
    "np.save('test_labels.npy', test_labels)"
   ]
  },
  {
   "cell_type": "code",
   "execution_count": 19,
   "metadata": {},
   "outputs": [],
   "source": [
    "assert train_body_vecs.shape[0] == train_title_vecs.shape[0] == train_labels.shape[0]\n",
    "assert test_body_vecs.shape[0] == test_title_vecs.shape[0] == test_labels.shape[0]"
   ]
  }
 ],
 "metadata": {
  "kernelspec": {
   "display_name": "Python 3",
   "language": "python",
   "name": "python3"
  },
  "language_info": {
   "codemirror_mode": {
    "name": "ipython",
    "version": 3
   },
   "file_extension": ".py",
   "mimetype": "text/x-python",
   "name": "python",
   "nbconvert_exporter": "python",
   "pygments_lexer": "ipython3",
   "version": "3.7.4"
  }
 },
 "nbformat": 4,
 "nbformat_minor": 2
}
